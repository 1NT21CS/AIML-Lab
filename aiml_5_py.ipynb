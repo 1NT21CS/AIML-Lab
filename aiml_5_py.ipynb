{
  "nbformat": 4,
  "nbformat_minor": 0,
  "metadata": {
    "colab": {
      "provenance": []
    },
    "kernelspec": {
      "name": "python3",
      "display_name": "Python 3"
    },
    "language_info": {
      "name": "python"
    }
  },
  "cells": [
    {
      "cell_type": "code",
      "execution_count": null,
      "metadata": {
        "id": "FXoeznaIqbPN"
      },
      "outputs": [],
      "source": [
        "''' Write a program to implement McCulloch-Pitts algorithms, for realizing the\n",
        "AND/OR/XOR/ANDNOT logic functions. '''\n",
        "\n",
        "def mcculloch_pitts(inputs, weights, threshold):\n",
        "    \"\"\"McCulloch-Pitts neuron model.\"\"\"\n",
        "    # Ensure the number of inputs matches the number of weights\n",
        "    assert len(inputs) == len(weights), \"Number of inputs must match the number of weights\"\n",
        "\n",
        "    # Calculate the weighted sum of inputs\n",
        "    weighted_sum = sum(x * w for x, w in zip(inputs, weights))\n",
        "\n",
        "    # Apply the threshold function\n",
        "    output = 1 if weighted_sum >= threshold else 0\n",
        "\n",
        "    return output\n",
        "\n",
        "def test_logic_gate(logic_gate):\n",
        "    \"\"\"Test a logic gate using McCulloch-Pitts neuron.\"\"\"\n",
        "    print(f\"Testing {logic_gate} gate:\")\n",
        "\n",
        "    if logic_gate == \"AND\":\n",
        "        # AND gate\n",
        "        inputs = [(0, 0), (0, 1), (1, 0), (1, 1)]\n",
        "        weights = (1, 1)\n",
        "        threshold = 2\n",
        "\n",
        "    elif logic_gate == \"OR\":\n",
        "        # OR gate\n",
        "        inputs = [(0, 0), (0, 1), (1, 0), (1, 1)]\n",
        "        weights = (1, 1)\n",
        "        threshold = 1\n",
        "\n",
        "    elif logic_gate == \"XOR\":\n",
        "        # XOR gate (requires a combination of AND, OR, and NOT gates)\n",
        "        inputs = [(0, 0), (0, 1), (1, 0), (1, 1)]\n",
        "        weights_and = (1, 1)\n",
        "        weights_or = (1, 1)\n",
        "        weights_not = (-1,)\n",
        "        threshold = 1\n",
        "        for input_pair in inputs:\n",
        "            input1, input2 = input_pair\n",
        "            # XOR is implemented using a combination of AND, OR, and NOT\n",
        "            and_result = mcculloch_pitts(input_pair, weights_and, threshold)\n",
        "            or_result = mcculloch_pitts(input_pair, weights_or, threshold)\n",
        "            not_result = mcculloch_pitts((and_result,), weights_not, threshold)\n",
        "\n",
        "            xor_result = mcculloch_pitts((or_result, not_result), weights_and, threshold)\n",
        "            print(f\"{input_pair}: {xor_result}\")\n",
        "        return\n",
        "\n",
        "    elif logic_gate == \"AND NOT\":\n",
        "        # AND NOT gate\n",
        "        inputs = [(0, 0), (0, 1), (1, 0), (1, 1)]\n",
        "        weights = (1, -1)\n",
        "        threshold = 0\n",
        "\n",
        "    else:\n",
        "        print(\"Invalid logic gate.\")\n",
        "        return\n",
        "\n",
        "    # Test the logic gate\n",
        "    for input_pair in inputs:\n",
        "        result = mcculloch_pitts(input_pair, weights, threshold)\n",
        "        print(f\"{input_pair}: {result}\")\n",
        "\n",
        "# Test different logic gates\n",
        "test_logic_gate(\"AND\")\n",
        "test_logic_gate(\"OR\")\n",
        "test_logic_gate(\"XOR\")\n",
        "test_logic_gate(\"AND NOT\")\n"
      ]
    }
  ]
}