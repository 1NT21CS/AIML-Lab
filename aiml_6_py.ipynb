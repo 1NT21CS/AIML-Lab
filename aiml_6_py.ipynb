{
  "nbformat": 4,
  "nbformat_minor": 0,
  "metadata": {
    "colab": {
      "provenance": []
    },
    "kernelspec": {
      "name": "python3",
      "display_name": "Python 3"
    },
    "language_info": {
      "name": "python"
    }
  },
  "cells": [
    {
      "cell_type": "code",
      "execution_count": null,
      "metadata": {
        "id": "tRngf6QOrdhe"
      },
      "outputs": [],
      "source": [
        "''' Implement the Perceptron Learning single layer Algorithm by Initializing the weights\n",
        "and threshold. Execute the code and check, how many iterations are needed, until the\n",
        "network converge. '''\n",
        "\n",
        "import numpy as np\n",
        "\n",
        "class Perceptron:\n",
        "    def __init__(self, input_size, learning_rate=0.1, threshold=0.0, max_iterations=1000):\n",
        "        self.weights = np.random.rand(input_size)\n",
        "        self.threshold = threshold\n",
        "        self.learning_rate = learning_rate\n",
        "        self.max_iterations = max_iterations\n",
        "\n",
        "    def activate(self, net_input):\n",
        "        return 1 if net_input >= self.threshold else 0\n",
        "\n",
        "    def train(self, input_data, labels):\n",
        "        iteration = 0\n",
        "        while iteration < self.max_iterations:\n",
        "            converged = True\n",
        "            for i in range(len(input_data)):\n",
        "                input_vector = np.array(input_data[i])\n",
        "                label = labels[i]\n",
        "                net_input = np.dot(input_vector, self.weights)\n",
        "                predicted_output = self.activate(net_input)\n",
        "                error = label - predicted_output\n",
        "                if error != 0:\n",
        "                    converged = False\n",
        "                    self.weights += self.learning_rate * error * input_vector\n",
        "            if converged:\n",
        "                break\n",
        "            iteration += 1\n",
        "        return iteration\n",
        "\n",
        "# Example usage\n",
        "input_data = [\n",
        "    [0, 0],\n",
        "    [0, 1],\n",
        "    [1, 0],\n",
        "    [1, 1]\n",
        "]\n",
        "labels = [0, 0, 0, 1]\n",
        "perceptron = Perceptron(input_size=2)\n",
        "iterations = perceptron.train(input_data, labels)\n",
        "print(\"Converged in {} iterations\".format(iterations))\n",
        "print(\"Final weights:\", perceptron.weights)\n"
      ]
    }
  ]
}