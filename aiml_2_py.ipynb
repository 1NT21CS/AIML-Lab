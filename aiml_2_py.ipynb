{
  "nbformat": 4,
  "nbformat_minor": 0,
  "metadata": {
    "colab": {
      "provenance": []
    },
    "kernelspec": {
      "name": "python3",
      "display_name": "Python 3"
    },
    "language_info": {
      "name": "python"
    }
  },
  "cells": [
    {
      "cell_type": "code",
      "execution_count": null,
      "metadata": {
        "id": "51plPIE-iZ_7"
      },
      "outputs": [],
      "source": [
        "''' Simulate the smart vacuum cleaner agent that cleans rooms size of n * n. The Agent\n",
        "can move Up, Down, Left, Right. calculate performance each round. '''\n",
        "\n",
        "import random\n",
        "\n",
        "def display(room):\n",
        "    for row in room:\n",
        "        print(row)\n",
        "\n",
        "room = [\n",
        "    [1, 1, 1, 1],\n",
        "    [1, 1, 1, 1],\n",
        "    [1, 1, 1, 1],\n",
        "    [1, 1, 1, 1],\n",
        "]\n",
        "\n",
        "print(\"All the rooms are dirty\")\n",
        "display(room)\n",
        "\n",
        "x = 0\n",
        "y = 0\n",
        "\n",
        "while x < 4:\n",
        "    while y < 4:\n",
        "        room[x][y] = random.choice([0, 1])\n",
        "        y += 1\n",
        "    x += 1\n",
        "    y = 0\n",
        "\n",
        "print(\"Before cleaning the room, I detect all of these random dirts\")\n",
        "display(room)\n",
        "\n",
        "x = 0\n",
        "y = 0\n",
        "z = 0\n",
        "\n",
        "while x < 4:\n",
        "    while y < 4:\n",
        "        if room[x][y] == 1:\n",
        "            print(\"Vacuum in this location now,\", x, y)\n",
        "            room[x][y] = 0\n",
        "            print(\"cleaned\", x, y)\n",
        "            z += 1\n",
        "        y += 1\n",
        "    x += 1\n",
        "    y = 0\n",
        "\n",
        "pro = (100 - ((z / 16) * 100))\n",
        "print(\"Room is clean now. Thanks for using\")\n",
        "display(room)\n",
        "print('performance=', pro, '%')\n"
      ]
    }
  ]
}