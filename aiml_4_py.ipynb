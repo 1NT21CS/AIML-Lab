{
  "cells": [
    {
      "cell_type": "code",
      "execution_count": null,
      "metadata": {
        "colab": {
          "background_save": true
        },
        "id": "LvVVnvZpmi1E"
      },
      "outputs": [],
      "source": [
        "''' . Implementation of Tic Tac Toe game here , the player needs to take turns marking the\n",
        "spaces in a 3x3 grid with their own marks, if 3 consecutive marks\n",
        "(Horizontal, Vertical,Diagonal) are formed then the player who owns these moves get\n",
        "won. Noughts and Crosses or X’s and O’s abbreviations can be used to play '''\n",
        "\n",
        "import os\n",
        "turn = 'X'\n",
        "win = False\n",
        "spaces = 9\n",
        "def draw(board):\n",
        "    for i in range(6, -1, -3):\n",
        "        print(' ' + board[i] + '|' + board[i+1] + '|' + board[i+2])\n",
        "def takeinput(board, spaces, turn):\n",
        "    pos = -1\n",
        "    print(turn + \"'s turn:\")\n",
        "    while pos == -1:\n",
        "        try:\n",
        "            print(\"Pick position 1-9:\")\n",
        "            pos = int(input())\n",
        "            if pos < 1 or pos > 9:\n",
        "                pos = -1\n",
        "            elif board[pos - 1] != ' ':\n",
        "                pos = -1\n",
        "        except:\n",
        "            print(\"Enter a valid position\")\n",
        "    spaces -= 1\n",
        "    board[pos - 1] = turn\n",
        "    if turn == 'X':\n",
        "        turn = 'O'\n",
        "    else:\n",
        "        turn = 'X'\n",
        "    return board, spaces, turn\n",
        "def checkwin(board):\n",
        "    # could probably make this better\n",
        "    for i in range(0, 3):\n",
        "        r = i * 3\n",
        "        if board[r] != ' ':\n",
        "            if board[r] == board[r+1] and board[r+1] == board[r+2]:\n",
        "                return board[r]\n",
        "        # columns\n",
        "        if board[i] != ' ':\n",
        "            if board[i] == board[i+3] and board[i] == board[i+6]:\n",
        "                return board[i]\n",
        "        # diagonals\n",
        "        if board[0] != ' ':\n",
        "            if board[0] == board[4] and board[4] == board[8]:\n",
        "                return board[0]\n",
        "        if board[2] != ' ':\n",
        "            if board[2] == board[4] and board[4] == board[6]:\n",
        "                return board[2]\n",
        "    return 0\n",
        "board = [' ']*9\n",
        "while not win and spaces:\n",
        "    draw(board)\n",
        "    board, spaces, turn = takeinput(board, spaces, turn)\n",
        "    win = checkwin(board)\n",
        "    os.system('cls') # 'cls' is for Windows, use 'clear' for Linux/Mac\n",
        "    #draw(board)\n",
        "if not win and not spaces:\n",
        "    print(\"draw\")\n",
        "elif win:\n",
        "    print(f'{win} wins')\n",
        "input()"
      ]
    }
  ],
  "metadata": {
    "colab": {
      "provenance": []
    },
    "kernelspec": {
      "display_name": "Python 3",
      "name": "python3"
    },
    "language_info": {
      "name": "python"
    }
  },
  "nbformat": 4,
  "nbformat_minor": 0
}