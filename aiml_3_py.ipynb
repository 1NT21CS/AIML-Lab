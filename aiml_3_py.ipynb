{
  "nbformat": 4,
  "nbformat_minor": 0,
  "metadata": {
    "colab": {
      "provenance": []
    },
    "kernelspec": {
      "name": "python3",
      "display_name": "Python 3"
    },
    "language_info": {
      "name": "python"
    }
  },
  "cells": [
    {
      "cell_type": "code",
      "execution_count": null,
      "metadata": {
        "colab": {
          "base_uri": "https://localhost:8080/"
        },
        "id": "YOslwM3Yj48A",
        "outputId": "34509328-8be4-4a46-df48-5b9a492d51b1"
      },
      "outputs": [
        {
          "output_type": "stream",
          "name": "stdout",
          "text": [
            "Enter total number of leaf nodes: 8\n",
            "Enter node value: 2\n",
            "Enter node value: 3\n",
            "Enter node value: 5\n",
            "Enter node value: 9\n",
            "Enter node value: 0\n",
            "Enter node value: 1\n",
            "Enter node value: 7\n",
            "Enter node value: 5\n",
            "Enter depth value: 0\n",
            "Enter node value: 0\n",
            "The optimal value is: 3\n"
          ]
        }
      ],
      "source": [
        "''' Write a program to implement Alpha Beta pruning in Python. The algorithm can be\n",
        "applied to any depth of tree by not only pruning the tree leaves but also the entire\n",
        "subtree. Order the nodes in the tree such that the best nodes are checked first from the\n",
        "shallowest node'''\n",
        "\n",
        "maximum, minimum = 1000, -1000\n",
        "\n",
        "def fun_alphabeta(d, node, maxp, v, A, B):\n",
        "    if d == 3:\n",
        "        return v[node]\n",
        "\n",
        "    if maxp:\n",
        "        best = minimum\n",
        "        for i in range(0, 2):\n",
        "            value = fun_alphabeta(d + 1, node * 2 + i, False, v, A, B)\n",
        "            best = max(best, value)\n",
        "            A = max(A, best)\n",
        "            if B <= A:\n",
        "                break\n",
        "        return best\n",
        "    else:\n",
        "        best = maximum\n",
        "        for i in range(0, 2):\n",
        "            value = fun_alphabeta(d + 1, node * 2 + i, True, v, A, B)\n",
        "            best = min(best, value)\n",
        "            A = min(A, best)\n",
        "            if B <= A:\n",
        "                break\n",
        "        return best\n",
        "\n",
        "# Input leaf node values\n",
        "scr = []\n",
        "x = int(input(\"Enter total number of leaf nodes: \"))\n",
        "for i in range(x):\n",
        "    y = int(input(\"Enter node value: \"))\n",
        "    scr.append(y)\n",
        "\n",
        "# Input depth and starting node\n",
        "d = int(input(\"Enter depth value: \"))\n",
        "node = int(input(\"Enter node value: \"))\n",
        "\n",
        "# Display the optimal value\n",
        "print(\"The optimal value is:\", fun_alphabeta(d, node, True, scr, minimum, maximum))\n",
        "5"
      ]
    }
  ]
}